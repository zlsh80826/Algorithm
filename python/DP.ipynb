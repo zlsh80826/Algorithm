{
 "cells": [
  {
   "cell_type": "code",
   "execution_count": 1,
   "metadata": {
    "collapsed": false,
    "deletable": true,
    "editable": true
   },
   "outputs": [],
   "source": [
    "import math\n",
    "import pygal\n",
    "import time\n",
    "import sys"
   ]
  },
  {
   "cell_type": "code",
   "execution_count": 2,
   "metadata": {
    "collapsed": false,
    "deletable": true,
    "editable": true
   },
   "outputs": [],
   "source": [
    "# Fibonacci with 3 implementation, brute-force, dynamic programming, matrix "
   ]
  },
  {
   "cell_type": "code",
   "execution_count": 3,
   "metadata": {
    "collapsed": false,
    "deletable": true,
    "editable": true
   },
   "outputs": [],
   "source": [
    "# Tranditional recursive approach\n",
    "def fibonacci_brute_force(n):\n",
    "    if n == 0 or n == 1:\n",
    "        return n\n",
    "    else:\n",
    "        return fibonacci_brute_force(n - 1) + fibonacci_brute_force(n - 2)"
   ]
  },
  {
   "cell_type": "code",
   "execution_count": 4,
   "metadata": {
    "collapsed": false,
    "deletable": true,
    "editable": true
   },
   "outputs": [],
   "source": [
    "# With memorize\n",
    "def fibonacci_memorize(n, dict_ = None):\n",
    "    if dict_ == None:\n",
    "        dict_ = {}\n",
    "    if n == 0 or n == 1:\n",
    "        return n\n",
    "    if n in dict_:\n",
    "        return dict_[n]\n",
    "    else:\n",
    "        ans = fibonacci_memorize(n - 1, dict_) + fibonacci_memorize(n - 2, dict_)\n",
    "        dict_[n] = ans\n",
    "        return ans"
   ]
  },
  {
   "cell_type": "code",
   "execution_count": 5,
   "metadata": {
    "collapsed": false,
    "deletable": true,
    "editable": true
   },
   "outputs": [],
   "source": [
    "# Fibonacci Q-Matrix is Q = [F2 F1]\n",
    "#                           [F1 F0], which can use multiplication to reduce complexity\n",
    "def fibonacci_matrix(n):\n",
    "    if n == 0:\n",
    "        return (0, 1)\n",
    "    else:\n",
    "        a, b = fibonacci_matrix(n // 2)\n",
    "        c = a * (b * 2 - a)\n",
    "        d = a**2 + b**2\n",
    "        if n % 2 == 0:\n",
    "            return (c, d)\n",
    "        else:\n",
    "            return (d, c + d)"
   ]
  },
  {
   "cell_type": "code",
   "execution_count": null,
   "metadata": {
    "collapsed": false
   },
   "outputs": [],
   "source": []
  },
  {
   "cell_type": "code",
   "execution_count": null,
   "metadata": {
    "collapsed": true
   },
   "outputs": [],
   "source": []
  }
 ],
 "metadata": {
  "kernelspec": {
   "display_name": "Python 3",
   "language": "python",
   "name": "python3"
  },
  "language_info": {
   "codemirror_mode": {
    "name": "ipython",
    "version": 3
   },
   "file_extension": ".py",
   "mimetype": "text/x-python",
   "name": "python",
   "nbconvert_exporter": "python",
   "pygments_lexer": "ipython3",
   "version": "3.6.0"
  }
 },
 "nbformat": 4,
 "nbformat_minor": 2
}
